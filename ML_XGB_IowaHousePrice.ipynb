{
 "cells": [
  {
   "cell_type": "code",
   "execution_count": 1,
   "metadata": {},
   "outputs": [
    {
     "name": "stdin",
     "output_type": "stream",
     "text": [
      "Once deleted, variables cannot be recovered. Proceed (y/[n])?  y\n"
     ]
    },
    {
     "name": "stderr",
     "output_type": "stream",
     "text": [
      "C:\\Users\\dell pc\\Anaconda3\\lib\\site-packages\\sklearn\\ensemble\\weight_boosting.py:29: DeprecationWarning: numpy.core.umath_tests is an internal NumPy module and should not be imported. It will be removed in a future NumPy release.\n",
      "  from numpy.core.umath_tests import inner1d\n"
     ]
    }
   ],
   "source": [
    "%reset\n",
    "# import libraries & modules\n",
    "import pandas as pd\n",
    "import numpy as np\n",
    "from sklearn.ensemble import RandomForestRegressor\n",
    "from sklearn.metrics import mean_absolute_error\n",
    "from sklearn.model_selection import train_test_split\n",
    "from sklearn.preprocessing import Imputer\n",
    "from sklearn.pipeline import make_pipeline\n",
    "from xgboost import XGBRegressor\n",
    "from sklearn.ensemble import GradientBoostingRegressor, GradientBoostingClassifier\n",
    "from sklearn.model_selection import cross_val_score\n",
    "import matplotlib.pyplot as plt"
   ]
  },
  {
   "cell_type": "code",
   "execution_count": 2,
   "metadata": {
    "slideshow": {
     "slide_type": "slide"
    }
   },
   "outputs": [],
   "source": [
    "# Path of the file to read. We changed the directory structure to simplify submitting to a competition\n",
    "iowa_file_path = \"C:/Users/dell pc/Downloads/open_data/house_price_iowa/train.csv\"\n",
    "test_data_path = \"C:/Users/dell pc/Downloads/open_data/house_price_iowa/test.csv\"\n",
    "\n",
    "# read test data file using pandas\n",
    "home_data = pd.read_csv(iowa_file_path)\n",
    "test_data = pd.read_csv(test_data_path)\n",
    "\n",
    "# Drop sample where the target is missing\n",
    "home_data.dropna(axis=0, subset=['SalePrice'], inplace=True) # SalePrice is the target"
   ]
  },
  {
   "cell_type": "code",
   "execution_count": 3,
   "metadata": {},
   "outputs": [],
   "source": []
  },
  {
   "cell_type": "code",
   "execution_count": 4,
   "metadata": {},
   "outputs": [],
   "source": [
    "# Create target object 'y'\n",
    "y = home_data.SalePrice\n",
    "\n",
    "# Create predictor 'X'\n",
    "# if using certain columns for predictor:\n",
    "# features = ['LotArea', 'YearBuilt', '1stFlrSF', '2ndFlrSF', 'FullBath', 'BedroomAbvGr', 'TotRmsAbvGrd'] \n",
    "# X = home_data[features]\n",
    "\n",
    "# drop column with too many NaN \n",
    "col_with_many_na = [col for col in home_data.columns if home_data[col].isnull().sum() > len(home_data)*0.75]\n",
    "# if using all column except target object and irrelevant column (too many NaN, object, etc):\n",
    "X = home_data.drop(['Id','SalePrice'] + col_with_many_na, axis=1)#.select_dtypes(exclude=['object'])\n",
    "X_test = test_data.drop(['Id'] + col_with_many_na, axis=1)#.select_dtypes(exclude=['object'])"
   ]
  },
  {
   "cell_type": "code",
   "execution_count": 5,
   "metadata": {},
   "outputs": [],
   "source": [
    "# One-hot encoding for categorical data\n",
    "# \"cardinality\" means the number of unique values in a column.\n",
    "# We use it as our only way to select categorical columns here.\n",
    "# One-hot encoding generally doesn't work well with categorical variable value >15\n",
    "low_cardinality_cols = [cname for cname in X.columns if \n",
    "                                X[cname].nunique() < 10 and \n",
    "                                X[cname].dtype == \"object\"]\n",
    "numeric_cols = [cname for cname in X.columns if\n",
    "                                X[cname].dtype in ['int64', 'float64']]\n",
    "                \n",
    "my_cols = low_cardinality_cols + numeric_cols\n",
    "X_for_ohe = X[my_cols]\n",
    "X_test_for_ohe = X_test[my_cols]\n",
    "\n",
    "# One-hot encoding 'ohe'\n",
    "X_ohe = pd.get_dummies(X_for_ohe)\n",
    "X_test_ohe = pd.get_dummies(X_test_for_ohe)\n",
    "\n",
    "\n",
    "final_X_ohe, final_X_test_ohe = X_ohe.align(X_test_ohe,\n",
    "                                                join='left', \n",
    "                                                axis=1)"
   ]
  },
  {
   "cell_type": "code",
   "execution_count": null,
   "metadata": {},
   "outputs": [],
   "source": []
  },
  {
   "cell_type": "code",
   "execution_count": 6,
   "metadata": {},
   "outputs": [
    {
     "name": "stdout",
     "output_type": "stream",
     "text": [
      "[3 2 3 ... 4 2 2]\n"
     ]
    },
    {
     "data": {
      "text/plain": [
       "array([[<matplotlib.axes._subplots.AxesSubplot object at 0x000001DD84B3A630>]],\n",
       "      dtype=object)"
      ]
     },
     "execution_count": 6,
     "metadata": {},
     "output_type": "execute_result"
    },
    {
     "data": {
      "image/png": "[encoded data removed]",
      "text/plain": [
       "<Figure size 432x288 with 1 Axes>"
      ]
     },
     "metadata": {
      "needs_background": "light"
     },
     "output_type": "display_data"
    }
   ],
   "source": [
    "# Set number of bin for the most important variable for splitting train and test dataset\n",
    "bins     = np.linspace(300, 3000, 5)\n",
    "GrLivArea_binned = np.digitize(final_X_ohe.GrLivArea, bins)\n",
    "\n",
    "print(GrLivArea_binned)\n",
    "pd.DataFrame(GrLivArea_binned).hist()"
   ]
  },
  {
   "cell_type": "code",
   "execution_count": 7,
   "metadata": {},
   "outputs": [],
   "source": [
    "# split data X into train and validation data\n",
    "X_train, X_val, y_train, y_val = train_test_split(final_X_ohe, \n",
    "                                                    y,\n",
    "                                                    test_size = 0.3,\n",
    "                                                    stratify=GrLivArea_binned,\n",
    "                                                    random_state=1)\n",
    "\n",
    "# to do list:\n",
    "# take out outlie sample\n",
    "# make attribute plots\n",
    "\n",
    "# Create Function to Measure Quality of An Approach\n",
    "def score_dataset(X_train, X_val, y_train, y_val):\n",
    "    model = XGBRegressor(n_estimators=1000, random_state=1)\n",
    "    model.fit(X_train, y_train, early_stopping_rounds=5, \n",
    "             eval_set=[(X_val, y_val)], verbose=False)\n",
    "    preds = model.predict(X_val)\n",
    "    return mean_absolute_error(y_val, preds)\n",
    "\n",
    "# average value of predicted columns\n",
    "avg_y_val = y_val.sum()/len(y_val)"
   ]
  },
  {
   "cell_type": "code",
   "execution_count": null,
   "metadata": {},
   "outputs": [],
   "source": []
  },
  {
   "cell_type": "code",
   "execution_count": 9,
   "metadata": {},
   "outputs": [],
   "source": [
    "# Get Score from Imputation with Extra Columns Showing What Was Imputed\n",
    "imputed_X_train_plus = X_train.copy()\n",
    "imputed_X_val_plus = X_val.copy()\n",
    "imputed_X_plus = final_X_test_ohe.copy()\n",
    "imputed_X_valntrain_full = final_X_ohe.copy()\n",
    "\n",
    "cols_with_missing = [col for col in X_train.columns \n",
    "                                 if X_train[col].isnull().any()]\n",
    "for col in cols_with_missing:\n",
    "    imputed_X_train_plus[col + '_was_missing'] = imputed_X_train_plus[col].isnull()\n",
    "    imputed_X_val_plus[col + '_was_missing'] = imputed_X_val_plus[col].isnull()\n",
    "    imputed_X_plus[col + '_was_missing'] = imputed_X_plus[col].isnull()\n",
    "    imputed_X_valntrain_full[col + '_was_missing'] = imputed_X_valntrain_full[col].isnull()"
   ]
  },
  {
   "cell_type": "code",
   "execution_count": 10,
   "metadata": {},
   "outputs": [
    {
     "name": "stdout",
     "output_type": "stream",
     "text": [
      "Average value of predicted colums: 180,768\n",
      "Mean Absolute Error from Imputation while Track What Was Imputed:  15096.313347246005\n",
      "Error percentage :8.351%\n"
     ]
    }
   ],
   "source": [
    "#  Apply Imputation, fill missing values\n",
    "my_imputer = Imputer()\n",
    "imputed_X_train_plus = my_imputer.fit_transform(imputed_X_train_plus)\n",
    "imputed_X_val_plus = my_imputer.transform(imputed_X_val_plus)\n",
    "imputed_X_plus = my_imputer.transform(imputed_X_plus)\n",
    "imputed_X_valntrain_full = my_imputer.transform(imputed_X_valntrain_full)\n",
    "\n",
    "print(\"Average value of predicted colums: {:,.0f}\".format(avg_y_val))\n",
    "mea_impute_tracker = score_dataset(imputed_X_train_plus, imputed_X_val_plus, y_train, y_val)\n",
    "print(\"Mean Absolute Error from Imputation while Track What Was Imputed: \", mea_impute_tracker)\n",
    "print(\"Error percentage :{:,.3%}\".format(mea_impute_tracker/avg_y_val))"
   ]
  },
  {
   "cell_type": "code",
   "execution_count": 11,
   "metadata": {},
   "outputs": [
    {
     "name": "stdout",
     "output_type": "stream",
     "text": [
      "Average value of predicted column: 180,768\n",
      "Validation MAE for XGBoost model: 15,096\n",
      "Error percentage :8.351%\n"
     ]
    }
   ],
   "source": [
    "# XGBoost model\n",
    "# set n_estimator for how many cycle prediction, too low-too high = under-overfit\n",
    "xgb_model = XGBRegressor(n_estimators=1000, random_state=1) #option: learning_rate=0.05\n",
    "# Add silent=True to avoid printing out updates with each cycle\n",
    "\n",
    "# set early_stopping_round for how many deteriorating validation before stopping the cycle\n",
    "# (automatically choose appropriate number of trees)\n",
    "xgb_model.fit(imputed_X_train_plus, y_train, early_stopping_rounds=5, \n",
    "             eval_set=[(imputed_X_val_plus, y_val)], verbose=False)\n",
    "\n",
    "# Make validation predictions and calculate mean absolute error\n",
    "xgb_val_predictions = xgb_model.predict(imputed_X_val_plus)\n",
    "xgb_val_mae = mean_absolute_error(xgb_val_predictions, y_val)\n",
    "\n",
    "print(\"Average value of predicted column: {:,.0f}\".format(avg_y_val))\n",
    "print(\"Validation MAE for XGBoost model: {:,.0f}\".format(xgb_val_mae))\n",
    "print(\"Error percentage :{:,.3%}\".format(xgb_val_mae/avg_y_val))\n"
   ]
  },
  {
   "cell_type": "code",
   "execution_count": 12,
   "metadata": {},
   "outputs": [
    {
     "name": "stdout",
     "output_type": "stream",
     "text": [
      "Average value of predicted column: 180,768\n",
      "Validation MAE for base graduent boosting model: 15,486\n",
      "Error percentage :8.567%\n"
     ]
    }
   ],
   "source": [
    "# Gradient Boosting model\n",
    "gb_model = GradientBoostingRegressor(random_state=1)\n",
    "\n",
    "gb_model.fit(imputed_X_train_plus, y_train)\n",
    "\n",
    "# Make validation predictions and calculate mean absolute error\n",
    "gb_val_predictions = gb_model.predict(imputed_X_val_plus)\n",
    "gb_val_mae = mean_absolute_error(gb_val_predictions, y_val)\n",
    "\n",
    "print(\"Average value of predicted column: {:,.0f}\".format(avg_y_val))\n",
    "print(\"Validation MAE for base graduent boosting model: {:,.0f}\".format(gb_val_mae))\n",
    "print(\"Error percentage :{:,.3%}\".format(gb_val_mae/avg_y_val))"
   ]
  },
  {
   "cell_type": "code",
   "execution_count": 13,
   "metadata": {},
   "outputs": [
    {
     "data": {
      "image/png": "[encoded data removed]",
      "text/plain": [
       "<Figure size 432x288 with 2 Axes>"
      ]
     },
     "metadata": {
      "needs_background": "light"
     },
     "output_type": "display_data"
    }
   ],
   "source": [
    "# partial dependence plot: look how certain feature affect the house price\n",
    "from sklearn.ensemble.partial_dependence import partial_dependence, plot_partial_dependence\n",
    "\n",
    "pdplots = plot_partial_dependence(gb_model,       \n",
    "                                   features=[list(X_train.columns).index('LotFrontage'),\n",
    "                                             list(X_train.columns).index('GrLivArea')], # column numbers of plots we want to show\n",
    "                                   X=imputed_X_train_plus,        # raw predictors data.\n",
    "                                   feature_names=list(X_train.columns), # labels on graphs\n",
    "                                   grid_resolution=10) # number of values to plot on x axis"
   ]
  },
  {
   "cell_type": "code",
   "execution_count": 14,
   "metadata": {},
   "outputs": [
    {
     "name": "stdout",
     "output_type": "stream",
     "text": [
      "Average value of predicted column: 180,768\n",
      "Validation MAE for base xgb model using pipeline: 14,454\n",
      "Error percentage :7.996%\n"
     ]
    }
   ],
   "source": [
    "# Pipelines\n",
    "# input for pipelines is pre-processed dataset just prior to imputation. So don't apply imputation before running this.\n",
    "thepipe = make_pipeline(Imputer(), XGBRegressor(n_estimators=1000, random_state=1))\n",
    "\n",
    "thepipe.fit(imputed_X_train_plus, y_train)\n",
    "thepipe_pred = thepipe.predict(imputed_X_val_plus)\n",
    "\n",
    "# Make validation predictions and calculate mean absolute error\n",
    "thepipe_val_mae = mean_absolute_error(thepipe_pred, y_val)\n",
    "\n",
    "print(\"Average value of predicted column: {:,.0f}\".format(avg_y_val))\n",
    "print(\"Validation MAE for base xgb model using pipeline: {:,.0f}\".format(thepipe_val_mae))\n",
    "print(\"Error percentage :{:,.3%}\".format(thepipe_val_mae/avg_y_val))"
   ]
  },
  {
   "cell_type": "code",
   "execution_count": 15,
   "metadata": {},
   "outputs": [
    {
     "name": "stdout",
     "output_type": "stream",
     "text": [
      "[-14811.30036416 -16734.51183907 -16290.52047164]\n",
      "Mean Absolute Error 15945.444225\n"
     ]
    }
   ],
   "source": [
    "# Cross-validation\n",
    "#  just as the 'pipelines' cell,\n",
    "# input for pipelines is pre-processed dataset just prior to imputation. So don't apply imputation before running this.\n",
    "scores_crossval = cross_val_score(thepipe, imputed_X_valntrain_full, y, scoring='neg_mean_absolute_error') # option: scoring='accuracy'\n",
    "print(scores_crossval)\n",
    "print('Mean Absolute Error %2f' %(-1 * scores_crossval.mean()))\n"
   ]
  },
  {
   "cell_type": "code",
   "execution_count": 67,
   "metadata": {},
   "outputs": [],
   "source": []
  },
  {
   "cell_type": "code",
   "execution_count": null,
   "metadata": {},
   "outputs": [],
   "source": []
  },
  {
   "cell_type": "code",
   "execution_count": 16,
   "metadata": {},
   "outputs": [
    {
     "name": "stdout",
     "output_type": "stream",
     "text": [
      "Done\n"
     ]
    }
   ],
   "source": [
    "# Creating model and output for Kaggle competition\n",
    "# To improve accuracy, create a new Random Forest model to train on all training data\n",
    "xgb_model_on_full_data = XGBRegressor(n_estimators=1000, random_state=1)\n",
    "\n",
    "# fit rf_model_on_full_data on all data from the \n",
    "xgb_model_on_full_data.fit(imputed_X_valntrain_full, y, verbose=False)\n",
    "\n",
    "# make predictions which we will submit. \n",
    "test_preds = xgb_model_on_full_data.predict(imputed_X_plus)\n",
    "\n",
    "# The lines below shows how to save your data in the format needed to store it in the competition\n",
    "output = pd.DataFrame({'Id': test_data.Id,\n",
    "                       'SalePrice': test_preds})\n",
    "\n",
    "output.to_csv(\"C:/Users/dell pc/Downloads/open_data/house_price_iowa/submission.csv\", index=False)\n",
    "\n",
    "print(\"Done\")"
   ]
  }
 ],
 "metadata": {
  "kernelspec": {
   "display_name": "Python 3",
   "language": "python",
   "name": "python3"
  },
  "language_info": {
   "codemirror_mode": {
    "name": "ipython",
    "version": 3
   },
   "file_extension": ".py",
   "mimetype": "text/x-python",
   "name": "python",
   "nbconvert_exporter": "python",
   "pygments_lexer": "ipython3",
   "version": "3.7.0"
  }
 },
 "nbformat": 4,
 "nbformat_minor": 2
}
